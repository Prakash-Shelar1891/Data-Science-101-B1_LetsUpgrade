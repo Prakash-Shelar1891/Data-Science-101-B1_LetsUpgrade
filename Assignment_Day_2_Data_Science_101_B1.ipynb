{
  "nbformat": 4,
  "nbformat_minor": 0,
  "metadata": {
    "colab": {
      "name": "Assignment  Day2_Data Science 101 B1",
      "provenance": [],
      "collapsed_sections": []
    },
    "kernelspec": {
      "name": "python3",
      "display_name": "Python 3"
    }
  },
  "cells": [
    {
      "cell_type": "markdown",
      "metadata": {
        "id": "huNiY1GWr58e"
      },
      "source": [
        "**Questions 1:**"
      ]
    },
    {
      "cell_type": "markdown",
      "metadata": {
        "id": "W0IeHPqysUCN"
      },
      "source": [
        "Create an empty list. Accept 10 numbers from the user and append to it the list if it is an even number."
      ]
    },
    {
      "cell_type": "code",
      "metadata": {
        "id": "AtDy07PyrIZV",
        "outputId": "82e9ab6b-1184-49d9-bd5e-0b5adfb8f052",
        "colab": {
          "base_uri": "https://localhost:8080/"
        }
      },
      "source": [
        "#Create Empty List\n",
        "num = []\n",
        "for _ in range(10):\n",
        "  temp = int(input()) #Accept 10 Numbers from users\n",
        "  \n",
        "  #Check number is even and append to list\n",
        "  if temp % 2 == 0:\n",
        "    num.append(temp)\n",
        "\n",
        "print(num)"
      ],
      "execution_count": null,
      "outputs": [
        {
          "output_type": "stream",
          "text": [
            "1\n",
            "2\n",
            "3\n",
            "4\n",
            "5\n",
            "6\n",
            "7\n",
            "8\n",
            "9\n",
            "10\n",
            "[2, 4, 6, 8, 10]\n"
          ],
          "name": "stdout"
        }
      ]
    },
    {
      "cell_type": "markdown",
      "metadata": {
        "id": "K3P91iSosX_F"
      },
      "source": [
        "###**Questions 2:**"
      ]
    },
    {
      "cell_type": "markdown",
      "metadata": {
        "id": "UWlU-HGksbCd"
      },
      "source": [
        "Create a notebook on LIST COMPREHENSION. This exercise is to put you in a Self learning mode"
      ]
    },
    {
      "cell_type": "code",
      "metadata": {
        "id": "u8ZmWRyd3w4_",
        "outputId": "2e108f3d-8195-410f-9fc5-c7db61747ccd",
        "colab": {
          "base_uri": "https://localhost:8080/"
        }
      },
      "source": [
        "#Print 10 Numbers using LIST COMPREHENSION\n",
        "x = [i for i in range(10)]\n",
        "print(x)"
      ],
      "execution_count": null,
      "outputs": [
        {
          "output_type": "stream",
          "text": [
            "[0, 1, 2, 3, 4, 5, 6, 7, 8, 9]\n"
          ],
          "name": "stdout"
        }
      ]
    },
    {
      "cell_type": "code",
      "metadata": {
        "id": "vtS1v8UE4r48",
        "outputId": "c72a964f-2260-4313-de3f-7c34c1ab3d3e",
        "colab": {
          "base_uri": "https://localhost:8080/"
        }
      },
      "source": [
        "#Print Even Numbers using LIST COMPREHENSION\n",
        "number_list = [ x for x in range(20) if x % 2 == 0]\n",
        "print(number_list)"
      ],
      "execution_count": null,
      "outputs": [
        {
          "output_type": "stream",
          "text": [
            "[0, 2, 4, 6, 8, 10, 12, 14, 16, 18]\n"
          ],
          "name": "stdout"
        }
      ]
    },
    {
      "cell_type": "code",
      "metadata": {
        "id": "AFHGoqXgz-hb",
        "outputId": "74a6383f-7d61-4478-dc77-5d9c16da6b1e",
        "colab": {
          "base_uri": "https://localhost:8080/"
        }
      },
      "source": [
        "#Multiply each element of List with 3\n",
        "list1 = [3,4,5]\n",
        "result = [item*3 for item in list1] \n",
        "print(result)"
      ],
      "execution_count": null,
      "outputs": [
        {
          "output_type": "stream",
          "text": [
            "[9, 12, 15]\n"
          ],
          "name": "stdout"
        }
      ]
    },
    {
      "cell_type": "code",
      "metadata": {
        "id": "mjfiQEBdz-7j",
        "outputId": "ded70c5c-3f8e-4a3b-b1b5-549810607017",
        "colab": {
          "base_uri": "https://localhost:8080/"
        }
      },
      "source": [
        "#Find and print all the numbers from a string\n",
        "string = \"Hello 12345 World\"\n",
        "numbers = [x for x in string if x.isdigit()]\n",
        "print(numbers)"
      ],
      "execution_count": null,
      "outputs": [
        {
          "output_type": "stream",
          "text": [
            "['1', '2', '3', '4', '5']\n"
          ],
          "name": "stdout"
        }
      ]
    },
    {
      "cell_type": "markdown",
      "metadata": {
        "id": "Paw6qb5tsdnU"
      },
      "source": [
        "###**Questions 3:**"
      ]
    },
    {
      "cell_type": "markdown",
      "metadata": {
        "id": "Ec2ByTDksjjM"
      },
      "source": [
        "You have seen in the videos how powerful dictionary data structure is.\n",
        "\n",
        "In this assignment, given a number n, you have to write a program that generates a dictionary d which\n",
        "contains (i, i*i), where i is from 1 to n (both included).\n",
        "\n",
        "Then you have to just print this dictionary d."
      ]
    },
    {
      "cell_type": "code",
      "metadata": {
        "id": "VIKw5oeb2ndG",
        "outputId": "095fe31e-dfe3-4451-b97b-aed0766c3280",
        "colab": {
          "base_uri": "https://localhost:8080/"
        }
      },
      "source": [
        "n = int(input())\n",
        "\n",
        "#Create Empty Dictionary\n",
        "dictionary = {}\n",
        "\n",
        "#Update Values in Dictionary\n",
        "for i in range(1, n+1):\n",
        "    dictionary[i] = i*i\n",
        "\n",
        "print(dictionary)"
      ],
      "execution_count": null,
      "outputs": [
        {
          "output_type": "stream",
          "text": [
            "10\n",
            "{1: 1, 2: 4, 3: 9, 4: 16, 5: 25, 6: 36, 7: 49, 8: 64, 9: 81, 10: 100}\n"
          ],
          "name": "stdout"
        }
      ]
    },
    {
      "cell_type": "markdown",
      "metadata": {
        "id": "EXzT_hU8suja"
      },
      "source": [
        "###**Questions 4:**"
      ]
    },
    {
      "cell_type": "markdown",
      "metadata": {
        "id": "-5ndJJqDszUS"
      },
      "source": [
        "There is a robot which wants to go the charging point to charge itself.\n",
        "The robot moves in a 2-D plane from the original point (0,0). The robot can\n",
        "move toward UP, DOWN, LEFT and RIGHT with given steps.\n",
        "The trace of robot movement is shown as the following:\n",
        "UP 5\n",
        "DOWN 3\n",
        "LEFT 3\n",
        "RIGHT 2\n",
        "Then, the output of the program should be:\n",
        "2\n",
        "The numbers after the direction are steps.\n",
        "Write a program to compute the distance between the current position after\n",
        "a sequence of movement and original point. If the distance is a float, then\n",
        "just print the nearest integer (use round() function for that and then convert\n",
        "it into an integer).\n",
        "Input Format:\n",
        "The first line of the input contains a number n which implies the number of\n",
        "directions to be given.\n",
        "The next n lines contain the direction and the step separated by a space.\n",
        "Output Format:\n",
        "Print the distance from the original position to the current position."
      ]
    },
    {
      "cell_type": "code",
      "metadata": {
        "id": "xdM5ZYOcsyTP",
        "outputId": "4a8e9b2f-5400-4442-d09b-b02e5df3e005",
        "colab": {
          "base_uri": "https://localhost:8080/"
        }
      },
      "source": [
        "N = int(input())\n",
        "position = {\"x\": 0, \"y\": 0}\n",
        "for i in range(N):\n",
        "\n",
        "    inputValue = input()\n",
        "    if not inputValue:\n",
        "        break\n",
        "\n",
        "    direction, steps = inputValue.split()\n",
        "\n",
        "    if direction == \"UP\":\n",
        "        position[\"y\"] += int(steps)\n",
        "\n",
        "    elif direction == \"DOWN\":\n",
        "        position[\"y\"] -= int(steps)\n",
        "\n",
        "    elif direction == \"LEFT\":\n",
        "        position[\"x\"] -= int(steps)\n",
        "\n",
        "    elif direction == \"RIGHT\":\n",
        "        position[\"x\"] += int(steps)\n",
        "\n",
        "print(int(round((position[\"x\"] ** 2 + position[\"y\"] ** 2) ** 0.5)))"
      ],
      "execution_count": null,
      "outputs": [
        {
          "output_type": "stream",
          "text": [
            "4\n",
            "UP 5\n",
            "DOWN 3\n",
            "LEFT 3\n",
            "RIGHT 2\n",
            "2\n"
          ],
          "name": "stdout"
        }
      ]
    },
    {
      "cell_type": "code",
      "metadata": {
        "id": "nibD5b_0zAFW"
      },
      "source": [
        ""
      ],
      "execution_count": null,
      "outputs": []
    }
  ]
}