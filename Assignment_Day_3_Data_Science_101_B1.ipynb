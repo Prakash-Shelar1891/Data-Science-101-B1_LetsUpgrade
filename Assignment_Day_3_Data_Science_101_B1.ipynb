{
  "nbformat": 4,
  "nbformat_minor": 0,
  "metadata": {
    "colab": {
      "name": "Assignment  Day 3_Data Science 101 B1.ipynb",
      "provenance": []
    },
    "kernelspec": {
      "name": "python3",
      "display_name": "Python 3"
    }
  },
  "cells": [
    {
      "cell_type": "markdown",
      "metadata": {
        "id": "WhI8aQwmNqpY"
      },
      "source": [
        "###**Questions 1:**"
      ]
    },
    {
      "cell_type": "markdown",
      "metadata": {
        "id": "O5UWE-7-Ns1Z"
      },
      "source": [
        "Create a numpy array starting from 2 till 50 with a stepsize of 3."
      ]
    },
    {
      "cell_type": "code",
      "metadata": {
        "id": "N4N4m4xZNvAe"
      },
      "source": [
        "import numpy as np"
      ],
      "execution_count": null,
      "outputs": []
    },
    {
      "cell_type": "code",
      "metadata": {
        "id": "qfvbnvgROTbo",
        "outputId": "6db74e41-ec2e-4263-d363-14c6cbe9ae51",
        "colab": {
          "base_uri": "https://localhost:8080/"
        }
      },
      "source": [
        "np_array = np.arange(2, 50, 3)\n",
        "print(np_array)"
      ],
      "execution_count": null,
      "outputs": [
        {
          "output_type": "stream",
          "text": [
            "[ 2  5  8 11 14 17 20 23 26 29 32 35 38 41 44 47]\n"
          ],
          "name": "stdout"
        }
      ]
    },
    {
      "cell_type": "markdown",
      "metadata": {
        "id": "phYsV9xaNqmb"
      },
      "source": [
        "###**Questions 2:**"
      ]
    },
    {
      "cell_type": "markdown",
      "metadata": {
        "id": "3_ecoxlCNyL5"
      },
      "source": [
        "Accept two lists of 5 elements each from the user.\n",
        "Convert them to numpy arrays. Concatenate these arrays and print it. Also sort these arrays and print it."
      ]
    },
    {
      "cell_type": "code",
      "metadata": {
        "id": "UFqvD57nNZhY",
        "outputId": "2af987d6-c740-41dc-e46f-a3dc2b70e200",
        "colab": {
          "base_uri": "https://localhost:8080/"
        }
      },
      "source": [
        "#Accept two lists of 5 elements\n",
        "list1 = list(map(str, input().split()))[:5]\n",
        "list2 = list(map(str, input().split()))[:5]\n",
        "\n",
        "#Convert arrays into Numpy array\n",
        "new_list1 = np.array(list1)\n",
        "new_list2 = np.array(list2)"
      ],
      "execution_count": null,
      "outputs": [
        {
          "output_type": "stream",
          "text": [
            "one two three four five\n",
            "six seven eight nine ten\n"
          ],
          "name": "stdout"
        }
      ]
    },
    {
      "cell_type": "code",
      "metadata": {
        "id": "q8pOIsRVQj5i",
        "outputId": "a4707ea9-8a73-4743-a8b6-08b3891fbffd",
        "colab": {
          "base_uri": "https://localhost:8080/"
        }
      },
      "source": [
        "#Conactenate arrays\n",
        "concat = np.char.add(new_list1, new_list2)\n",
        "concat"
      ],
      "execution_count": null,
      "outputs": [
        {
          "output_type": "execute_result",
          "data": {
            "text/plain": [
              "array(['onesix', 'twoseven', 'threeeight', 'fournine', 'fiveten'],\n",
              "      dtype='<U10')"
            ]
          },
          "metadata": {
            "tags": []
          },
          "execution_count": 9
        }
      ]
    },
    {
      "cell_type": "code",
      "metadata": {
        "id": "HvSZFUO6QkjR",
        "outputId": "5001e940-7822-4f33-84be-72ed9d078528",
        "colab": {
          "base_uri": "https://localhost:8080/"
        }
      },
      "source": [
        "#Sort arrays\n",
        "print(np.sort(new_list1))\n",
        "print(np.sort(new_list2))"
      ],
      "execution_count": null,
      "outputs": [
        {
          "output_type": "stream",
          "text": [
            "['five' 'four' 'one' 'three' 'two']\n",
            "['eight' 'nine' 'seven' 'six' 'ten']\n"
          ],
          "name": "stdout"
        }
      ]
    },
    {
      "cell_type": "markdown",
      "metadata": {
        "id": "2VjB8Dg6N0Yo"
      },
      "source": [
        "###**Questions 3:**"
      ]
    },
    {
      "cell_type": "markdown",
      "metadata": {
        "id": "Q0hVq5iNN0Hh"
      },
      "source": [
        "Write a code snippet to find the dimensions of a ndarray and its size."
      ]
    },
    {
      "cell_type": "code",
      "metadata": {
        "id": "tlSrcxOPN374",
        "outputId": "a0b37ff6-9965-48ff-b977-393b66b0108d",
        "colab": {
          "base_uri": "https://localhost:8080/"
        }
      },
      "source": [
        "#Create np array\n",
        "arr = np.array( [[ 1, 2, 3],\n",
        "                 [ 4, 2, 5]] )\n",
        "#Print dimension of ndarray\n",
        "print(arr.ndim)\n",
        "\n",
        "#print size of ndarray\n",
        "print(arr.size)"
      ],
      "execution_count": null,
      "outputs": [
        {
          "output_type": "stream",
          "text": [
            "2\n",
            "6\n"
          ],
          "name": "stdout"
        }
      ]
    },
    {
      "cell_type": "markdown",
      "metadata": {
        "id": "DQO8MxNHN5Fg"
      },
      "source": [
        "###**Questions 4:**"
      ]
    },
    {
      "cell_type": "markdown",
      "metadata": {
        "id": "da9K6xelN6Tx"
      },
      "source": [
        "How to convert a 1D array into a 2D array? Demonstrate with the help of a code snippet\n",
        "Hint: np.newaxis, np.expand_dims"
      ]
    },
    {
      "cell_type": "code",
      "metadata": {
        "id": "pvQQfMJaN55s",
        "outputId": "d46f0097-59c0-46d4-de1c-369039dc65cd",
        "colab": {
          "base_uri": "https://localhost:8080/"
        }
      },
      "source": [
        "#Create 1D array\n",
        "arr = np.array([0, 1, 2, 3, 4, 5, 6, 7, 8, 9])\n",
        "\n",
        "# Convert 1D array to a 2D numpy array \n",
        "arr_2d = np.reshape(arr, (2, 5))\n",
        "\n",
        "print(arr_2d)"
      ],
      "execution_count": null,
      "outputs": [
        {
          "output_type": "stream",
          "text": [
            "[[0 1 2 3 4]\n",
            " [5 6 7 8 9]]\n"
          ],
          "name": "stdout"
        }
      ]
    },
    {
      "cell_type": "markdown",
      "metadata": {
        "id": "bLzw9KNzN83g"
      },
      "source": [
        "###**Questions 5:**"
      ]
    },
    {
      "cell_type": "markdown",
      "metadata": {
        "id": "api2SxDZN_OI"
      },
      "source": [
        "Consider two square numpy arrays. Stack them vertically and horizontally.\n",
        "Hint: Use vstack(), hstack()"
      ]
    },
    {
      "cell_type": "code",
      "metadata": {
        "id": "gn5RNgb-N92n"
      },
      "source": [
        "#Create array 1\n",
        "arr1 = np.array([[1, 2, 3], [4, 5, 6]])\n",
        "#Convert to square array\n",
        "new_arr1 = np.square(arr1)\n",
        "\n",
        "#Create array 2\n",
        "arr2 = np.array([[7, 8, 9], [10, 11, 12]])\n",
        "#Convert to square array\n",
        "new_arr2 = np.square(arr2)"
      ],
      "execution_count": null,
      "outputs": []
    },
    {
      "cell_type": "code",
      "metadata": {
        "id": "GUKfjE33XosR",
        "outputId": "acbfea16-2f6b-4d5a-e77c-16a9635f15d3",
        "colab": {
          "base_uri": "https://localhost:8080/"
        }
      },
      "source": [
        "#Convert to vstack\n",
        "print(np.vstack((new_arr1, new_arr2)))"
      ],
      "execution_count": null,
      "outputs": [
        {
          "output_type": "stream",
          "text": [
            "[[  1   4   9]\n",
            " [ 16  25  36]\n",
            " [ 49  64  81]\n",
            " [100 121 144]]\n"
          ],
          "name": "stdout"
        }
      ]
    },
    {
      "cell_type": "code",
      "metadata": {
        "id": "l0tXhS8qXnkz",
        "outputId": "cae67be8-f401-495a-fde5-4653d9fe3e3f",
        "colab": {
          "base_uri": "https://localhost:8080/"
        }
      },
      "source": [
        "#Convert to hstack\n",
        "print(np.hstack((new_arr1, new_arr2)))"
      ],
      "execution_count": null,
      "outputs": [
        {
          "output_type": "stream",
          "text": [
            "[[  1   4   9  49  64  81]\n",
            " [ 16  25  36 100 121 144]]\n"
          ],
          "name": "stdout"
        }
      ]
    },
    {
      "cell_type": "markdown",
      "metadata": {
        "id": "jPzWHh9_OA6o"
      },
      "source": [
        "###**Questions 6:**"
      ]
    },
    {
      "cell_type": "markdown",
      "metadata": {
        "id": "7bQo9yYDOCxA"
      },
      "source": [
        "How to get unique items and counts of unique items?"
      ]
    },
    {
      "cell_type": "code",
      "metadata": {
        "id": "0FXypN6uOCVE",
        "outputId": "69939279-6249-4f47-c1aa-25d1a75885f6",
        "colab": {
          "base_uri": "https://localhost:8080/"
        }
      },
      "source": [
        "#Create np array\n",
        "arr = np.array([1, 2, 3, 4, 1, 6, 2, 5, 4])\n",
        "\n",
        "#Find Unique items\n",
        "print(np.unique(arr))\n",
        "\n",
        "#Count of unique items\n",
        "print(len(np.unique(arr)))"
      ],
      "execution_count": null,
      "outputs": [
        {
          "output_type": "stream",
          "text": [
            "[1 2 3 4 5 6]\n",
            "6\n"
          ],
          "name": "stdout"
        }
      ]
    }
  ]
}